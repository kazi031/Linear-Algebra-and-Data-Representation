{
 "cells": [
  {
   "cell_type": "code",
   "execution_count": 1,
   "metadata": {},
   "outputs": [],
   "source": [
    "import numpy as np\n",
    "b = np.array([4,7,2,9],float)"
   ]
  },
  {
   "cell_type": "code",
   "execution_count": 2,
   "metadata": {},
   "outputs": [
    {
     "data": {
      "text/plain": [
       "9.0"
      ]
     },
     "execution_count": 2,
     "metadata": {},
     "output_type": "execute_result"
    }
   ],
   "source": [
    "b[3]"
   ]
  },
  {
   "cell_type": "code",
   "execution_count": 3,
   "metadata": {},
   "outputs": [],
   "source": [
    "# the algorithm of elimination process requires 3 nested loops\n",
    "# 3a-2b+5c = 2\n",
    "# 4a+5b+8c+d = 4\n",
    "# a+b+2c+d = 5\n",
    "# 2a+7b+6c+5d = 7"
   ]
  },
  {
   "cell_type": "code",
   "execution_count": 4,
   "metadata": {},
   "outputs": [],
   "source": [
    "from numpy import array ,zeros"
   ]
  },
  {
   "cell_type": "code",
   "execution_count": 11,
   "metadata": {},
   "outputs": [],
   "source": [
    "a = array([[3,-2,5,0],\n",
    "          [4,5,8,1],\n",
    "          [1,1,2,1],\n",
    "          [2,7,6,5]],float);\n",
    "\n",
    "b = array([2,4,5,7],float);\n",
    "n = len(b);\n",
    "\n",
    "# x is the solution vector\n",
    "\n",
    "x = zeros(n,float);"
   ]
  },
  {
   "cell_type": "code",
   "execution_count": 12,
   "metadata": {},
   "outputs": [],
   "source": [
    "# elimination process\n",
    "for k in range(n-1):\n",
    "    for i in range(k+1,n):\n",
    "        if a[i,k] == 0:\n",
    "            continue;\n",
    "        else:\n",
    "            factor = a[k,k]/a[i,k]\n",
    "        for j in range(k,n):\n",
    "            a[i,j] = a[k,j] - a[i,j] * factor;\n",
    "        b[i] = b[k] - b[i] * factor;"
   ]
  },
  {
   "cell_type": "code",
   "execution_count": 14,
   "metadata": {},
   "outputs": [
    {
     "name": "stdout",
     "output_type": "stream",
     "text": [
      "[[ 3.         -2.          5.          0.        ]\n",
      " [ 0.         -5.75       -1.         -0.75      ]\n",
      " [ 0.          0.          0.15        2.7       ]\n",
      " [ 0.          0.          0.          2.21785714]]\n",
      "[ 2.         -1.         13.95       13.43035714]\n"
     ]
    }
   ],
   "source": [
    "print(a)\n",
    "print(b)"
   ]
  },
  {
   "cell_type": "code",
   "execution_count": 15,
   "metadata": {},
   "outputs": [],
   "source": [
    "# back subtitution\n",
    "x[n-1] = b[n-1]/a[n-1,n-1];\n",
    "for i in range(n-2,-1,-1):\n",
    "    sum = 0;\n",
    "    for j in range(i+1,n):\n",
    "        sum = a[i,j] * x[j];\n",
    "        x[i] = (b[i] - sum)/a[i,i];\n",
    "    "
   ]
  },
  {
   "cell_type": "code",
   "execution_count": 17,
   "metadata": {},
   "outputs": [
    {
     "name": "stdout",
     "output_type": "stream",
     "text": [
      "[  0.66666667  -0.61594203 -16.           6.05555556]\n"
     ]
    }
   ],
   "source": [
    "print(x)"
   ]
  },
  {
   "cell_type": "code",
   "execution_count": null,
   "metadata": {},
   "outputs": [],
   "source": []
  }
 ],
 "metadata": {
  "kernelspec": {
   "display_name": "Python 3",
   "language": "python",
   "name": "python3"
  },
  "language_info": {
   "codemirror_mode": {
    "name": "ipython",
    "version": 3
   },
   "file_extension": ".py",
   "mimetype": "text/x-python",
   "name": "python",
   "nbconvert_exporter": "python",
   "pygments_lexer": "ipython3",
   "version": "3.7.6"
  }
 },
 "nbformat": 4,
 "nbformat_minor": 4
}
